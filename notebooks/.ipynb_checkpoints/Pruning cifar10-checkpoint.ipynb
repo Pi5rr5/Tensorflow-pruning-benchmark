{
 "cells": [
  {
   "cell_type": "code",
   "execution_count": 1,
   "metadata": {},
   "outputs": [
    {
     "name": "stderr",
     "output_type": "stream",
     "text": [
      "/home/pierre/anaconda3/envs/ml-env/lib/python3.7/site-packages/tensorflow/python/framework/dtypes.py:516: FutureWarning: Passing (type, 1) or '1type' as a synonym of type is deprecated; in a future version of numpy, it will be understood as (type, (1,)) / '(1,)type'.\n",
      "  _np_qint8 = np.dtype([(\"qint8\", np.int8, 1)])\n",
      "/home/pierre/anaconda3/envs/ml-env/lib/python3.7/site-packages/tensorflow/python/framework/dtypes.py:517: FutureWarning: Passing (type, 1) or '1type' as a synonym of type is deprecated; in a future version of numpy, it will be understood as (type, (1,)) / '(1,)type'.\n",
      "  _np_quint8 = np.dtype([(\"quint8\", np.uint8, 1)])\n",
      "/home/pierre/anaconda3/envs/ml-env/lib/python3.7/site-packages/tensorflow/python/framework/dtypes.py:518: FutureWarning: Passing (type, 1) or '1type' as a synonym of type is deprecated; in a future version of numpy, it will be understood as (type, (1,)) / '(1,)type'.\n",
      "  _np_qint16 = np.dtype([(\"qint16\", np.int16, 1)])\n",
      "/home/pierre/anaconda3/envs/ml-env/lib/python3.7/site-packages/tensorflow/python/framework/dtypes.py:519: FutureWarning: Passing (type, 1) or '1type' as a synonym of type is deprecated; in a future version of numpy, it will be understood as (type, (1,)) / '(1,)type'.\n",
      "  _np_quint16 = np.dtype([(\"quint16\", np.uint16, 1)])\n",
      "/home/pierre/anaconda3/envs/ml-env/lib/python3.7/site-packages/tensorflow/python/framework/dtypes.py:520: FutureWarning: Passing (type, 1) or '1type' as a synonym of type is deprecated; in a future version of numpy, it will be understood as (type, (1,)) / '(1,)type'.\n",
      "  _np_qint32 = np.dtype([(\"qint32\", np.int32, 1)])\n",
      "/home/pierre/anaconda3/envs/ml-env/lib/python3.7/site-packages/tensorflow/python/framework/dtypes.py:525: FutureWarning: Passing (type, 1) or '1type' as a synonym of type is deprecated; in a future version of numpy, it will be understood as (type, (1,)) / '(1,)type'.\n",
      "  np_resource = np.dtype([(\"resource\", np.ubyte, 1)])\n",
      "/home/pierre/anaconda3/envs/ml-env/lib/python3.7/site-packages/tensorboard/compat/tensorflow_stub/dtypes.py:541: FutureWarning: Passing (type, 1) or '1type' as a synonym of type is deprecated; in a future version of numpy, it will be understood as (type, (1,)) / '(1,)type'.\n",
      "  _np_qint8 = np.dtype([(\"qint8\", np.int8, 1)])\n",
      "/home/pierre/anaconda3/envs/ml-env/lib/python3.7/site-packages/tensorboard/compat/tensorflow_stub/dtypes.py:542: FutureWarning: Passing (type, 1) or '1type' as a synonym of type is deprecated; in a future version of numpy, it will be understood as (type, (1,)) / '(1,)type'.\n",
      "  _np_quint8 = np.dtype([(\"quint8\", np.uint8, 1)])\n",
      "/home/pierre/anaconda3/envs/ml-env/lib/python3.7/site-packages/tensorboard/compat/tensorflow_stub/dtypes.py:543: FutureWarning: Passing (type, 1) or '1type' as a synonym of type is deprecated; in a future version of numpy, it will be understood as (type, (1,)) / '(1,)type'.\n",
      "  _np_qint16 = np.dtype([(\"qint16\", np.int16, 1)])\n",
      "/home/pierre/anaconda3/envs/ml-env/lib/python3.7/site-packages/tensorboard/compat/tensorflow_stub/dtypes.py:544: FutureWarning: Passing (type, 1) or '1type' as a synonym of type is deprecated; in a future version of numpy, it will be understood as (type, (1,)) / '(1,)type'.\n",
      "  _np_quint16 = np.dtype([(\"quint16\", np.uint16, 1)])\n",
      "/home/pierre/anaconda3/envs/ml-env/lib/python3.7/site-packages/tensorboard/compat/tensorflow_stub/dtypes.py:545: FutureWarning: Passing (type, 1) or '1type' as a synonym of type is deprecated; in a future version of numpy, it will be understood as (type, (1,)) / '(1,)type'.\n",
      "  _np_qint32 = np.dtype([(\"qint32\", np.int32, 1)])\n",
      "/home/pierre/anaconda3/envs/ml-env/lib/python3.7/site-packages/tensorboard/compat/tensorflow_stub/dtypes.py:550: FutureWarning: Passing (type, 1) or '1type' as a synonym of type is deprecated; in a future version of numpy, it will be understood as (type, (1,)) / '(1,)type'.\n",
      "  np_resource = np.dtype([(\"resource\", np.ubyte, 1)])\n"
     ]
    }
   ],
   "source": [
    "import tensorflow as tf\n",
    "tf.enable_eager_execution()\n",
    "\n",
    "import tempfile\n",
    "import zipfile\n",
    "import os"
   ]
  },
  {
   "cell_type": "code",
   "execution_count": 2,
   "metadata": {},
   "outputs": [
    {
     "name": "stdout",
     "output_type": "stream",
     "text": [
      "x_train shape: (50000, 32, 32, 3)\n",
      "50000 train samples\n",
      "10000 test samples\n"
     ]
    }
   ],
   "source": [
    "batch_size = 128\n",
    "num_classes = 10\n",
    "epochs = 15\n",
    "\n",
    "# input image dimensions\n",
    "img_rows, img_cols, img_dim = 32, 32, 3\n",
    "\n",
    "# the data, shuffled and split between train and test sets\n",
    "(x_train, y_train), (x_test, y_test) = tf.keras.datasets.cifar10.load_data()\n",
    "\n",
    "input_shape = (img_rows, img_cols, img_dim)\n",
    "\n",
    "x_train = x_train.astype('float32')\n",
    "x_test = x_test.astype('float32')\n",
    "x_train /= 255\n",
    "x_test /= 255\n",
    "print('x_train shape:', x_train.shape)\n",
    "print(x_train.shape[0], 'train samples')\n",
    "print(x_test.shape[0], 'test samples')\n",
    "\n",
    "# convert class vectors to binary class matrices\n",
    "#y_train = tf.keras.utils.to_categorical(y_train, num_classes)\n",
    "#y_test = tf.keras.utils.to_categorical(y_test, num_classes)"
   ]
  },
  {
   "cell_type": "markdown",
   "metadata": {},
   "source": [
    "## Train a CIFAR-10 model without pruning"
   ]
  },
  {
   "cell_type": "code",
   "execution_count": 3,
   "metadata": {},
   "outputs": [
    {
     "name": "stdout",
     "output_type": "stream",
     "text": [
      "Model: \"sequential\"\n",
      "_________________________________________________________________\n",
      "Layer (type)                 Output Shape              Param #   \n",
      "=================================================================\n",
      "conv2d (Conv2D)              (None, 30, 30, 32)        896       \n",
      "_________________________________________________________________\n",
      "max_pooling2d (MaxPooling2D) (None, 15, 15, 32)        0         \n",
      "_________________________________________________________________\n",
      "conv2d_1 (Conv2D)            (None, 13, 13, 64)        18496     \n",
      "_________________________________________________________________\n",
      "max_pooling2d_1 (MaxPooling2 (None, 6, 6, 64)          0         \n",
      "_________________________________________________________________\n",
      "conv2d_2 (Conv2D)            (None, 4, 4, 64)          36928     \n",
      "_________________________________________________________________\n",
      "flatten (Flatten)            (None, 1024)              0         \n",
      "_________________________________________________________________\n",
      "dense (Dense)                (None, 64)                65600     \n",
      "_________________________________________________________________\n",
      "dense_1 (Dense)              (None, 10)                650       \n",
      "=================================================================\n",
      "Total params: 122,570\n",
      "Trainable params: 122,570\n",
      "Non-trainable params: 0\n",
      "_________________________________________________________________\n"
     ]
    }
   ],
   "source": [
    "l = tf.keras.layers\n",
    "\n",
    "model = tf.keras.Sequential([\n",
    "    l.Conv2D(32, (3, 3), activation='relu', input_shape=input_shape),\n",
    "    l.MaxPooling2D((2, 2)),\n",
    "    l.Conv2D(64, (3, 3), activation='relu'),\n",
    "    l.MaxPooling2D((2, 2)),\n",
    "    l.Conv2D(64, (3, 3), activation='relu'),\n",
    "    l.Flatten(),\n",
    "    l.Dense(64, activation='relu'),\n",
    "    l.Dense(num_classes)\n",
    "])\n",
    "\n",
    "model.summary()"
   ]
  },
  {
   "cell_type": "code",
   "execution_count": 4,
   "metadata": {},
   "outputs": [
    {
     "name": "stdout",
     "output_type": "stream",
     "text": [
      "Writing training logs to /tmp/tmpdtkc0n9_\n"
     ]
    }
   ],
   "source": [
    "logdir = tempfile.mkdtemp()\n",
    "print('Writing training logs to ' + logdir)"
   ]
  },
  {
   "cell_type": "code",
   "execution_count": 5,
   "metadata": {},
   "outputs": [
    {
     "name": "stdout",
     "output_type": "stream",
     "text": [
      "Train on 50000 samples, validate on 10000 samples\n",
      "Epoch 1/15\n",
      "50000/50000 [==============================] - 23s 465us/sample - loss: 1.6836 - acc: 0.3843 - val_loss: 1.4294 - val_acc: 0.4916\n",
      "Epoch 2/15\n",
      "50000/50000 [==============================] - 23s 458us/sample - loss: 1.3073 - acc: 0.5307 - val_loss: 1.2262 - val_acc: 0.5639\n",
      "Epoch 3/15\n",
      "50000/50000 [==============================] - 23s 464us/sample - loss: 1.1619 - acc: 0.5883 - val_loss: 1.1386 - val_acc: 0.6013\n",
      "Epoch 4/15\n",
      "50000/50000 [==============================] - 23s 462us/sample - loss: 1.0729 - acc: 0.6231 - val_loss: 1.0725 - val_acc: 0.6148\n",
      "Epoch 5/15\n",
      "50000/50000 [==============================] - 22s 443us/sample - loss: 0.9909 - acc: 0.6509 - val_loss: 1.0082 - val_acc: 0.6461\n",
      "Epoch 6/15\n",
      "50000/50000 [==============================] - 22s 435us/sample - loss: 0.9311 - acc: 0.6737 - val_loss: 0.9489 - val_acc: 0.6696\n",
      "Epoch 7/15\n",
      "50000/50000 [==============================] - 21s 424us/sample - loss: 0.8765 - acc: 0.6914 - val_loss: 0.9284 - val_acc: 0.6792\n",
      "Epoch 8/15\n",
      "50000/50000 [==============================] - 22s 441us/sample - loss: 0.8414 - acc: 0.7062 - val_loss: 0.9287 - val_acc: 0.6794\n",
      "Epoch 9/15\n",
      "50000/50000 [==============================] - 24s 472us/sample - loss: 0.7982 - acc: 0.7212 - val_loss: 0.8724 - val_acc: 0.7003\n",
      "Epoch 10/15\n",
      "50000/50000 [==============================] - 23s 455us/sample - loss: 0.7627 - acc: 0.7353 - val_loss: 0.8811 - val_acc: 0.6974\n",
      "Epoch 11/15\n",
      "50000/50000 [==============================] - 22s 440us/sample - loss: 0.7389 - acc: 0.7413 - val_loss: 0.8656 - val_acc: 0.7136\n",
      "Epoch 12/15\n",
      "50000/50000 [==============================] - 22s 444us/sample - loss: 0.7070 - acc: 0.7534 - val_loss: 0.8326 - val_acc: 0.7144\n",
      "Epoch 13/15\n",
      "50000/50000 [==============================] - 22s 443us/sample - loss: 0.6769 - acc: 0.7642 - val_loss: 0.8661 - val_acc: 0.7074\n",
      "Epoch 14/15\n",
      "50000/50000 [==============================] - 22s 435us/sample - loss: 0.6572 - acc: 0.7704 - val_loss: 0.8290 - val_acc: 0.7239\n",
      "Epoch 15/15\n",
      "50000/50000 [==============================] - 23s 452us/sample - loss: 0.6362 - acc: 0.7774 - val_loss: 0.8845 - val_acc: 0.7057\n"
     ]
    }
   ],
   "source": [
    "model.compile(\n",
    "    loss=tf.keras.losses.SparseCategoricalCrossentropy(from_logits=True),\n",
    "    optimizer='adam',\n",
    "    metrics=['accuracy'])\n",
    "\n",
    "history = model.fit(x_train, y_train,\n",
    "              batch_size=batch_size,\n",
    "              epochs=epochs,\n",
    "              verbose=1,\n",
    "              validation_data=(x_test, y_test))"
   ]
  },
  {
   "cell_type": "code",
   "execution_count": 6,
   "metadata": {},
   "outputs": [
    {
     "name": "stdout",
     "output_type": "stream",
     "text": [
      "Saving model to:  /tmp/tmpf5bj9lhx.h5\n"
     ]
    }
   ],
   "source": [
    "# Backend agnostic way to save/restore models\n",
    "_, keras_file = tempfile.mkstemp('.h5')\n",
    "print('Saving model to: ', keras_file)\n",
    "tf.keras.models.save_model(model, keras_file, include_optimizer=False)"
   ]
  },
  {
   "cell_type": "markdown",
   "metadata": {},
   "source": [
    "## Train a pruned CIFAR-10"
   ]
  },
  {
   "cell_type": "code",
   "execution_count": 15,
   "metadata": {},
   "outputs": [],
   "source": [
    "from tensorflow_model_optimization.sparsity import keras as sparsity"
   ]
  },
  {
   "cell_type": "code",
   "execution_count": 16,
   "metadata": {},
   "outputs": [
    {
     "name": "stdout",
     "output_type": "stream",
     "text": [
      "End step: 5865\n"
     ]
    }
   ],
   "source": [
    "import numpy as np\n",
    "\n",
    "epochs = 15\n",
    "num_train_samples = x_train.shape[0]\n",
    "end_step = np.ceil(1.0 * num_train_samples / batch_size).astype(np.int32) * epochs\n",
    "print('End step: ' + str(end_step))"
   ]
  },
  {
   "cell_type": "code",
   "execution_count": 17,
   "metadata": {},
   "outputs": [
    {
     "name": "stdout",
     "output_type": "stream",
     "text": [
      "WARNING:tensorflow:Entity <bound method PruneLowMagnitude.call of <tensorflow_model_optimization.python.core.sparsity.keras.pruning_wrapper.PruneLowMagnitude object at 0x7f35c9edbe50>> could not be transformed and will be executed as-is. Please report this to the AutgoGraph team. When filing the bug, set the verbosity to 10 (on Linux, `export AUTOGRAPH_VERBOSITY=10`) and attach the full output. Cause: converting <bound method PruneLowMagnitude.call of <tensorflow_model_optimization.python.core.sparsity.keras.pruning_wrapper.PruneLowMagnitude object at 0x7f35c9edbe50>>: AssertionError: Bad argument number for Name: 3, expecting 4\n",
      "WARNING: Entity <bound method PruneLowMagnitude.call of <tensorflow_model_optimization.python.core.sparsity.keras.pruning_wrapper.PruneLowMagnitude object at 0x7f35c9edbe50>> could not be transformed and will be executed as-is. Please report this to the AutgoGraph team. When filing the bug, set the verbosity to 10 (on Linux, `export AUTOGRAPH_VERBOSITY=10`) and attach the full output. Cause: converting <bound method PruneLowMagnitude.call of <tensorflow_model_optimization.python.core.sparsity.keras.pruning_wrapper.PruneLowMagnitude object at 0x7f35c9edbe50>>: AssertionError: Bad argument number for Name: 3, expecting 4\n",
      "WARNING:tensorflow:Entity <bound method PruneLowMagnitude.call of <tensorflow_model_optimization.python.core.sparsity.keras.pruning_wrapper.PruneLowMagnitude object at 0x7f35c9edd950>> could not be transformed and will be executed as-is. Please report this to the AutgoGraph team. When filing the bug, set the verbosity to 10 (on Linux, `export AUTOGRAPH_VERBOSITY=10`) and attach the full output. Cause: converting <bound method PruneLowMagnitude.call of <tensorflow_model_optimization.python.core.sparsity.keras.pruning_wrapper.PruneLowMagnitude object at 0x7f35c9edd950>>: AssertionError: Bad argument number for Name: 3, expecting 4\n",
      "WARNING: Entity <bound method PruneLowMagnitude.call of <tensorflow_model_optimization.python.core.sparsity.keras.pruning_wrapper.PruneLowMagnitude object at 0x7f35c9edd950>> could not be transformed and will be executed as-is. Please report this to the AutgoGraph team. When filing the bug, set the verbosity to 10 (on Linux, `export AUTOGRAPH_VERBOSITY=10`) and attach the full output. Cause: converting <bound method PruneLowMagnitude.call of <tensorflow_model_optimization.python.core.sparsity.keras.pruning_wrapper.PruneLowMagnitude object at 0x7f35c9edd950>>: AssertionError: Bad argument number for Name: 3, expecting 4\n",
      "WARNING:tensorflow:Entity <bound method PruneLowMagnitude.call of <tensorflow_model_optimization.python.core.sparsity.keras.pruning_wrapper.PruneLowMagnitude object at 0x7f35c9ee0410>> could not be transformed and will be executed as-is. Please report this to the AutgoGraph team. When filing the bug, set the verbosity to 10 (on Linux, `export AUTOGRAPH_VERBOSITY=10`) and attach the full output. Cause: converting <bound method PruneLowMagnitude.call of <tensorflow_model_optimization.python.core.sparsity.keras.pruning_wrapper.PruneLowMagnitude object at 0x7f35c9ee0410>>: AssertionError: Bad argument number for Name: 3, expecting 4\n",
      "WARNING: Entity <bound method PruneLowMagnitude.call of <tensorflow_model_optimization.python.core.sparsity.keras.pruning_wrapper.PruneLowMagnitude object at 0x7f35c9ee0410>> could not be transformed and will be executed as-is. Please report this to the AutgoGraph team. When filing the bug, set the verbosity to 10 (on Linux, `export AUTOGRAPH_VERBOSITY=10`) and attach the full output. Cause: converting <bound method PruneLowMagnitude.call of <tensorflow_model_optimization.python.core.sparsity.keras.pruning_wrapper.PruneLowMagnitude object at 0x7f35c9ee0410>>: AssertionError: Bad argument number for Name: 3, expecting 4\n",
      "WARNING:tensorflow:Entity <bound method PruneLowMagnitude.call of <tensorflow_model_optimization.python.core.sparsity.keras.pruning_wrapper.PruneLowMagnitude object at 0x7f35c9f13450>> could not be transformed and will be executed as-is. Please report this to the AutgoGraph team. When filing the bug, set the verbosity to 10 (on Linux, `export AUTOGRAPH_VERBOSITY=10`) and attach the full output. Cause: converting <bound method PruneLowMagnitude.call of <tensorflow_model_optimization.python.core.sparsity.keras.pruning_wrapper.PruneLowMagnitude object at 0x7f35c9f13450>>: AssertionError: Bad argument number for Name: 3, expecting 4\n",
      "WARNING: Entity <bound method PruneLowMagnitude.call of <tensorflow_model_optimization.python.core.sparsity.keras.pruning_wrapper.PruneLowMagnitude object at 0x7f35c9f13450>> could not be transformed and will be executed as-is. Please report this to the AutgoGraph team. When filing the bug, set the verbosity to 10 (on Linux, `export AUTOGRAPH_VERBOSITY=10`) and attach the full output. Cause: converting <bound method PruneLowMagnitude.call of <tensorflow_model_optimization.python.core.sparsity.keras.pruning_wrapper.PruneLowMagnitude object at 0x7f35c9f13450>>: AssertionError: Bad argument number for Name: 3, expecting 4\n",
      "WARNING:tensorflow:Entity <bound method PruneLowMagnitude.call of <tensorflow_model_optimization.python.core.sparsity.keras.pruning_wrapper.PruneLowMagnitude object at 0x7f35f06de910>> could not be transformed and will be executed as-is. Please report this to the AutgoGraph team. When filing the bug, set the verbosity to 10 (on Linux, `export AUTOGRAPH_VERBOSITY=10`) and attach the full output. Cause: converting <bound method PruneLowMagnitude.call of <tensorflow_model_optimization.python.core.sparsity.keras.pruning_wrapper.PruneLowMagnitude object at 0x7f35f06de910>>: AssertionError: Bad argument number for Name: 3, expecting 4\n",
      "WARNING: Entity <bound method PruneLowMagnitude.call of <tensorflow_model_optimization.python.core.sparsity.keras.pruning_wrapper.PruneLowMagnitude object at 0x7f35f06de910>> could not be transformed and will be executed as-is. Please report this to the AutgoGraph team. When filing the bug, set the verbosity to 10 (on Linux, `export AUTOGRAPH_VERBOSITY=10`) and attach the full output. Cause: converting <bound method PruneLowMagnitude.call of <tensorflow_model_optimization.python.core.sparsity.keras.pruning_wrapper.PruneLowMagnitude object at 0x7f35f06de910>>: AssertionError: Bad argument number for Name: 3, expecting 4\n",
      "Model: \"sequential_2\"\n",
      "_________________________________________________________________\n",
      "Layer (type)                 Output Shape              Param #   \n",
      "=================================================================\n",
      "prune_low_magnitude_conv2d_6 (None, 32, 32, 32)        1762      \n",
      "_________________________________________________________________\n",
      "max_pooling2d_4 (MaxPooling2 (None, 16, 16, 32)        0         \n",
      "_________________________________________________________________\n",
      "prune_low_magnitude_conv2d_7 (None, 16, 16, 64)        36930     \n",
      "_________________________________________________________________\n",
      "max_pooling2d_5 (MaxPooling2 (None, 8, 8, 64)          0         \n",
      "_________________________________________________________________\n",
      "prune_low_magnitude_conv2d_8 (None, 8, 8, 64)          73794     \n",
      "_________________________________________________________________\n",
      "flatten_2 (Flatten)          (None, 4096)              0         \n",
      "_________________________________________________________________\n",
      "prune_low_magnitude_dense_4  (None, 64)                524354    \n",
      "_________________________________________________________________\n",
      "prune_low_magnitude_dense_5  (None, 10)                1292      \n",
      "=================================================================\n",
      "Total params: 638,132\n",
      "Trainable params: 319,178\n",
      "Non-trainable params: 318,954\n",
      "_________________________________________________________________\n"
     ]
    }
   ],
   "source": [
    "pruning_params = {\n",
    "      'pruning_schedule': sparsity.PolynomialDecay(initial_sparsity=0.50,\n",
    "                                                   final_sparsity=0.90,\n",
    "                                                   begin_step=2000,\n",
    "                                                   end_step=end_step,\n",
    "                                                   frequency=100)\n",
    "}\n",
    "\n",
    "pruned_model = tf.keras.Sequential([\n",
    "    sparsity.prune_low_magnitude(\n",
    "        l.Conv2D(32, (3, 3), padding='same', activation='relu'),\n",
    "        input_shape=input_shape,\n",
    "        **pruning_params),\n",
    "    l.MaxPooling2D((2, 2)),\n",
    "    sparsity.prune_low_magnitude(l.Conv2D(64, (3, 3), padding='same', activation='relu'), **pruning_params),\n",
    "    l.MaxPooling2D((2, 2)),\n",
    "    sparsity.prune_low_magnitude(l.Conv2D(64, (3, 3), padding='same', activation='relu'), **pruning_params),\n",
    "    l.Flatten(),\n",
    "    sparsity.prune_low_magnitude(l.Dense(64, activation='relu'), **pruning_params),\n",
    "    sparsity.prune_low_magnitude(l.Dense(num_classes, activation='softmax'), **pruning_params)\n",
    "])\n",
    "\n",
    "pruned_model.summary()"
   ]
  },
  {
   "cell_type": "code",
   "execution_count": 18,
   "metadata": {},
   "outputs": [
    {
     "name": "stdout",
     "output_type": "stream",
     "text": [
      "Writing training logs to /tmp/tmp9_u8c3i1\n"
     ]
    }
   ],
   "source": [
    "logdir = tempfile.mkdtemp()\n",
    "print('Writing training logs to ' + logdir)"
   ]
  },
  {
   "cell_type": "code",
   "execution_count": 19,
   "metadata": {},
   "outputs": [
    {
     "name": "stdout",
     "output_type": "stream",
     "text": [
      "Train on 50000 samples, validate on 10000 samples\n",
      "Epoch 1/15\n",
      "49792/50000 [============================>.] - ETA: 0s - loss: 2.1516 - acc: 0.2984INFO:tensorflow:Summary name prune_low_magnitude_conv2d_6/mask:0/sparsity is illegal; using prune_low_magnitude_conv2d_6/mask_0/sparsity instead.\n",
      "INFO:tensorflow:Summary name prune_low_magnitude_conv2d_7/mask:0/sparsity is illegal; using prune_low_magnitude_conv2d_7/mask_0/sparsity instead.\n",
      "INFO:tensorflow:Summary name prune_low_magnitude_conv2d_8/mask:0/sparsity is illegal; using prune_low_magnitude_conv2d_8/mask_0/sparsity instead.\n",
      "INFO:tensorflow:Summary name prune_low_magnitude_dense_4/mask:0/sparsity is illegal; using prune_low_magnitude_dense_4/mask_0/sparsity instead.\n",
      "INFO:tensorflow:Summary name prune_low_magnitude_dense_5/mask:0/sparsity is illegal; using prune_low_magnitude_dense_5/mask_0/sparsity instead.\n",
      "INFO:tensorflow:Summary name prune_low_magnitude_conv2d_6/threshold:0/threshold is illegal; using prune_low_magnitude_conv2d_6/threshold_0/threshold instead.\n",
      "INFO:tensorflow:Summary name prune_low_magnitude_conv2d_7/threshold:0/threshold is illegal; using prune_low_magnitude_conv2d_7/threshold_0/threshold instead.\n",
      "INFO:tensorflow:Summary name prune_low_magnitude_conv2d_8/threshold:0/threshold is illegal; using prune_low_magnitude_conv2d_8/threshold_0/threshold instead.\n",
      "INFO:tensorflow:Summary name prune_low_magnitude_dense_4/threshold:0/threshold is illegal; using prune_low_magnitude_dense_4/threshold_0/threshold instead.\n",
      "INFO:tensorflow:Summary name prune_low_magnitude_dense_5/threshold:0/threshold is illegal; using prune_low_magnitude_dense_5/threshold_0/threshold instead.\n",
      "50000/50000 [==============================] - 21s 420us/sample - loss: 2.1513 - acc: 0.2988 - val_loss: 2.0845 - val_acc: 0.3725\n",
      "Epoch 2/15\n",
      "49792/50000 [============================>.] - ETA: 0s - loss: 2.0665 - acc: 0.3902INFO:tensorflow:Summary name prune_low_magnitude_conv2d_6/mask:0/sparsity is illegal; using prune_low_magnitude_conv2d_6/mask_0/sparsity instead.\n",
      "INFO:tensorflow:Summary name prune_low_magnitude_conv2d_7/mask:0/sparsity is illegal; using prune_low_magnitude_conv2d_7/mask_0/sparsity instead.\n",
      "INFO:tensorflow:Summary name prune_low_magnitude_conv2d_8/mask:0/sparsity is illegal; using prune_low_magnitude_conv2d_8/mask_0/sparsity instead.\n",
      "INFO:tensorflow:Summary name prune_low_magnitude_dense_4/mask:0/sparsity is illegal; using prune_low_magnitude_dense_4/mask_0/sparsity instead.\n",
      "INFO:tensorflow:Summary name prune_low_magnitude_dense_5/mask:0/sparsity is illegal; using prune_low_magnitude_dense_5/mask_0/sparsity instead.\n",
      "INFO:tensorflow:Summary name prune_low_magnitude_conv2d_6/threshold:0/threshold is illegal; using prune_low_magnitude_conv2d_6/threshold_0/threshold instead.\n",
      "INFO:tensorflow:Summary name prune_low_magnitude_conv2d_7/threshold:0/threshold is illegal; using prune_low_magnitude_conv2d_7/threshold_0/threshold instead.\n",
      "INFO:tensorflow:Summary name prune_low_magnitude_conv2d_8/threshold:0/threshold is illegal; using prune_low_magnitude_conv2d_8/threshold_0/threshold instead.\n",
      "INFO:tensorflow:Summary name prune_low_magnitude_dense_4/threshold:0/threshold is illegal; using prune_low_magnitude_dense_4/threshold_0/threshold instead.\n",
      "INFO:tensorflow:Summary name prune_low_magnitude_dense_5/threshold:0/threshold is illegal; using prune_low_magnitude_dense_5/threshold_0/threshold instead.\n",
      "50000/50000 [==============================] - 20s 400us/sample - loss: 2.0662 - acc: 0.3904 - val_loss: 2.0372 - val_acc: 0.4215\n",
      "Epoch 3/15\n",
      "49920/50000 [============================>.] - ETA: 0s - loss: 2.0324 - acc: 0.4246INFO:tensorflow:Summary name prune_low_magnitude_conv2d_6/mask:0/sparsity is illegal; using prune_low_magnitude_conv2d_6/mask_0/sparsity instead.\n",
      "INFO:tensorflow:Summary name prune_low_magnitude_conv2d_7/mask:0/sparsity is illegal; using prune_low_magnitude_conv2d_7/mask_0/sparsity instead.\n",
      "INFO:tensorflow:Summary name prune_low_magnitude_conv2d_8/mask:0/sparsity is illegal; using prune_low_magnitude_conv2d_8/mask_0/sparsity instead.\n",
      "INFO:tensorflow:Summary name prune_low_magnitude_dense_4/mask:0/sparsity is illegal; using prune_low_magnitude_dense_4/mask_0/sparsity instead.\n",
      "INFO:tensorflow:Summary name prune_low_magnitude_dense_5/mask:0/sparsity is illegal; using prune_low_magnitude_dense_5/mask_0/sparsity instead.\n",
      "INFO:tensorflow:Summary name prune_low_magnitude_conv2d_6/threshold:0/threshold is illegal; using prune_low_magnitude_conv2d_6/threshold_0/threshold instead.\n",
      "INFO:tensorflow:Summary name prune_low_magnitude_conv2d_7/threshold:0/threshold is illegal; using prune_low_magnitude_conv2d_7/threshold_0/threshold instead.\n",
      "INFO:tensorflow:Summary name prune_low_magnitude_conv2d_8/threshold:0/threshold is illegal; using prune_low_magnitude_conv2d_8/threshold_0/threshold instead.\n",
      "INFO:tensorflow:Summary name prune_low_magnitude_dense_4/threshold:0/threshold is illegal; using prune_low_magnitude_dense_4/threshold_0/threshold instead.\n",
      "INFO:tensorflow:Summary name prune_low_magnitude_dense_5/threshold:0/threshold is illegal; using prune_low_magnitude_dense_5/threshold_0/threshold instead.\n",
      "50000/50000 [==============================] - 23s 461us/sample - loss: 2.0323 - acc: 0.4247 - val_loss: 2.0275 - val_acc: 0.4307\n",
      "Epoch 4/15\n",
      "49920/50000 [============================>.] - ETA: 0s - loss: 1.9800 - acc: 0.4801INFO:tensorflow:Summary name prune_low_magnitude_conv2d_6/mask:0/sparsity is illegal; using prune_low_magnitude_conv2d_6/mask_0/sparsity instead.\n",
      "INFO:tensorflow:Summary name prune_low_magnitude_conv2d_7/mask:0/sparsity is illegal; using prune_low_magnitude_conv2d_7/mask_0/sparsity instead.\n",
      "INFO:tensorflow:Summary name prune_low_magnitude_conv2d_8/mask:0/sparsity is illegal; using prune_low_magnitude_conv2d_8/mask_0/sparsity instead.\n",
      "INFO:tensorflow:Summary name prune_low_magnitude_dense_4/mask:0/sparsity is illegal; using prune_low_magnitude_dense_4/mask_0/sparsity instead.\n",
      "INFO:tensorflow:Summary name prune_low_magnitude_dense_5/mask:0/sparsity is illegal; using prune_low_magnitude_dense_5/mask_0/sparsity instead.\n",
      "INFO:tensorflow:Summary name prune_low_magnitude_conv2d_6/threshold:0/threshold is illegal; using prune_low_magnitude_conv2d_6/threshold_0/threshold instead.\n",
      "INFO:tensorflow:Summary name prune_low_magnitude_conv2d_7/threshold:0/threshold is illegal; using prune_low_magnitude_conv2d_7/threshold_0/threshold instead.\n",
      "INFO:tensorflow:Summary name prune_low_magnitude_conv2d_8/threshold:0/threshold is illegal; using prune_low_magnitude_conv2d_8/threshold_0/threshold instead.\n",
      "INFO:tensorflow:Summary name prune_low_magnitude_dense_4/threshold:0/threshold is illegal; using prune_low_magnitude_dense_4/threshold_0/threshold instead.\n",
      "INFO:tensorflow:Summary name prune_low_magnitude_dense_5/threshold:0/threshold is illegal; using prune_low_magnitude_dense_5/threshold_0/threshold instead.\n",
      "50000/50000 [==============================] - 20s 409us/sample - loss: 1.9800 - acc: 0.4801 - val_loss: 1.9584 - val_acc: 0.5016\n",
      "Epoch 5/15\n",
      "49920/50000 [============================>.] - ETA: 0s - loss: 1.9230 - acc: 0.5366INFO:tensorflow:Summary name prune_low_magnitude_conv2d_6/mask:0/sparsity is illegal; using prune_low_magnitude_conv2d_6/mask_0/sparsity instead.\n",
      "INFO:tensorflow:Summary name prune_low_magnitude_conv2d_7/mask:0/sparsity is illegal; using prune_low_magnitude_conv2d_7/mask_0/sparsity instead.\n",
      "INFO:tensorflow:Summary name prune_low_magnitude_conv2d_8/mask:0/sparsity is illegal; using prune_low_magnitude_conv2d_8/mask_0/sparsity instead.\n",
      "INFO:tensorflow:Summary name prune_low_magnitude_dense_4/mask:0/sparsity is illegal; using prune_low_magnitude_dense_4/mask_0/sparsity instead.\n",
      "INFO:tensorflow:Summary name prune_low_magnitude_dense_5/mask:0/sparsity is illegal; using prune_low_magnitude_dense_5/mask_0/sparsity instead.\n",
      "INFO:tensorflow:Summary name prune_low_magnitude_conv2d_6/threshold:0/threshold is illegal; using prune_low_magnitude_conv2d_6/threshold_0/threshold instead.\n",
      "INFO:tensorflow:Summary name prune_low_magnitude_conv2d_7/threshold:0/threshold is illegal; using prune_low_magnitude_conv2d_7/threshold_0/threshold instead.\n",
      "INFO:tensorflow:Summary name prune_low_magnitude_conv2d_8/threshold:0/threshold is illegal; using prune_low_magnitude_conv2d_8/threshold_0/threshold instead.\n"
     ]
    },
    {
     "name": "stdout",
     "output_type": "stream",
     "text": [
      "INFO:tensorflow:Summary name prune_low_magnitude_dense_4/threshold:0/threshold is illegal; using prune_low_magnitude_dense_4/threshold_0/threshold instead.\n",
      "INFO:tensorflow:Summary name prune_low_magnitude_dense_5/threshold:0/threshold is illegal; using prune_low_magnitude_dense_5/threshold_0/threshold instead.\n",
      "50000/50000 [==============================] - 19s 388us/sample - loss: 1.9230 - acc: 0.5365 - val_loss: 1.9009 - val_acc: 0.5606\n",
      "Epoch 6/15\n",
      "49920/50000 [============================>.] - ETA: 0s - loss: 1.8786 - acc: 0.5819INFO:tensorflow:Summary name prune_low_magnitude_conv2d_6/mask:0/sparsity is illegal; using prune_low_magnitude_conv2d_6/mask_0/sparsity instead.\n",
      "INFO:tensorflow:Summary name prune_low_magnitude_conv2d_7/mask:0/sparsity is illegal; using prune_low_magnitude_conv2d_7/mask_0/sparsity instead.\n",
      "INFO:tensorflow:Summary name prune_low_magnitude_conv2d_8/mask:0/sparsity is illegal; using prune_low_magnitude_conv2d_8/mask_0/sparsity instead.\n",
      "INFO:tensorflow:Summary name prune_low_magnitude_dense_4/mask:0/sparsity is illegal; using prune_low_magnitude_dense_4/mask_0/sparsity instead.\n",
      "INFO:tensorflow:Summary name prune_low_magnitude_dense_5/mask:0/sparsity is illegal; using prune_low_magnitude_dense_5/mask_0/sparsity instead.\n",
      "INFO:tensorflow:Summary name prune_low_magnitude_conv2d_6/threshold:0/threshold is illegal; using prune_low_magnitude_conv2d_6/threshold_0/threshold instead.\n",
      "INFO:tensorflow:Summary name prune_low_magnitude_conv2d_7/threshold:0/threshold is illegal; using prune_low_magnitude_conv2d_7/threshold_0/threshold instead.\n",
      "INFO:tensorflow:Summary name prune_low_magnitude_conv2d_8/threshold:0/threshold is illegal; using prune_low_magnitude_conv2d_8/threshold_0/threshold instead.\n",
      "INFO:tensorflow:Summary name prune_low_magnitude_dense_4/threshold:0/threshold is illegal; using prune_low_magnitude_dense_4/threshold_0/threshold instead.\n",
      "INFO:tensorflow:Summary name prune_low_magnitude_dense_5/threshold:0/threshold is illegal; using prune_low_magnitude_dense_5/threshold_0/threshold instead.\n",
      "50000/50000 [==============================] - 19s 384us/sample - loss: 1.8786 - acc: 0.5819 - val_loss: 1.8853 - val_acc: 0.5750\n",
      "Epoch 7/15\n",
      "49920/50000 [============================>.] - ETA: 0s - loss: 1.8495 - acc: 0.6126INFO:tensorflow:Summary name prune_low_magnitude_conv2d_6/mask:0/sparsity is illegal; using prune_low_magnitude_conv2d_6/mask_0/sparsity instead.\n",
      "INFO:tensorflow:Summary name prune_low_magnitude_conv2d_7/mask:0/sparsity is illegal; using prune_low_magnitude_conv2d_7/mask_0/sparsity instead.\n",
      "INFO:tensorflow:Summary name prune_low_magnitude_conv2d_8/mask:0/sparsity is illegal; using prune_low_magnitude_conv2d_8/mask_0/sparsity instead.\n",
      "INFO:tensorflow:Summary name prune_low_magnitude_dense_4/mask:0/sparsity is illegal; using prune_low_magnitude_dense_4/mask_0/sparsity instead.\n",
      "INFO:tensorflow:Summary name prune_low_magnitude_dense_5/mask:0/sparsity is illegal; using prune_low_magnitude_dense_5/mask_0/sparsity instead.\n",
      "INFO:tensorflow:Summary name prune_low_magnitude_conv2d_6/threshold:0/threshold is illegal; using prune_low_magnitude_conv2d_6/threshold_0/threshold instead.\n",
      "INFO:tensorflow:Summary name prune_low_magnitude_conv2d_7/threshold:0/threshold is illegal; using prune_low_magnitude_conv2d_7/threshold_0/threshold instead.\n",
      "INFO:tensorflow:Summary name prune_low_magnitude_conv2d_8/threshold:0/threshold is illegal; using prune_low_magnitude_conv2d_8/threshold_0/threshold instead.\n",
      "INFO:tensorflow:Summary name prune_low_magnitude_dense_4/threshold:0/threshold is illegal; using prune_low_magnitude_dense_4/threshold_0/threshold instead.\n",
      "INFO:tensorflow:Summary name prune_low_magnitude_dense_5/threshold:0/threshold is illegal; using prune_low_magnitude_dense_5/threshold_0/threshold instead.\n",
      "50000/50000 [==============================] - 18s 369us/sample - loss: 1.8496 - acc: 0.6124 - val_loss: 1.8623 - val_acc: 0.5959\n",
      "Epoch 8/15\n",
      "49792/50000 [============================>.] - ETA: 0s - loss: 1.8328 - acc: 0.6293INFO:tensorflow:Summary name prune_low_magnitude_conv2d_6/mask:0/sparsity is illegal; using prune_low_magnitude_conv2d_6/mask_0/sparsity instead.\n",
      "INFO:tensorflow:Summary name prune_low_magnitude_conv2d_7/mask:0/sparsity is illegal; using prune_low_magnitude_conv2d_7/mask_0/sparsity instead.\n",
      "INFO:tensorflow:Summary name prune_low_magnitude_conv2d_8/mask:0/sparsity is illegal; using prune_low_magnitude_conv2d_8/mask_0/sparsity instead.\n",
      "INFO:tensorflow:Summary name prune_low_magnitude_dense_4/mask:0/sparsity is illegal; using prune_low_magnitude_dense_4/mask_0/sparsity instead.\n",
      "INFO:tensorflow:Summary name prune_low_magnitude_dense_5/mask:0/sparsity is illegal; using prune_low_magnitude_dense_5/mask_0/sparsity instead.\n",
      "INFO:tensorflow:Summary name prune_low_magnitude_conv2d_6/threshold:0/threshold is illegal; using prune_low_magnitude_conv2d_6/threshold_0/threshold instead.\n",
      "INFO:tensorflow:Summary name prune_low_magnitude_conv2d_7/threshold:0/threshold is illegal; using prune_low_magnitude_conv2d_7/threshold_0/threshold instead.\n",
      "INFO:tensorflow:Summary name prune_low_magnitude_conv2d_8/threshold:0/threshold is illegal; using prune_low_magnitude_conv2d_8/threshold_0/threshold instead.\n",
      "INFO:tensorflow:Summary name prune_low_magnitude_dense_4/threshold:0/threshold is illegal; using prune_low_magnitude_dense_4/threshold_0/threshold instead.\n",
      "INFO:tensorflow:Summary name prune_low_magnitude_dense_5/threshold:0/threshold is illegal; using prune_low_magnitude_dense_5/threshold_0/threshold instead.\n",
      "50000/50000 [==============================] - 19s 389us/sample - loss: 1.8328 - acc: 0.6294 - val_loss: 1.8583 - val_acc: 0.6021\n",
      "Epoch 9/15\n",
      "49792/50000 [============================>.] - ETA: 0s - loss: 1.8161 - acc: 0.6471INFO:tensorflow:Summary name prune_low_magnitude_conv2d_6/mask:0/sparsity is illegal; using prune_low_magnitude_conv2d_6/mask_0/sparsity instead.\n",
      "INFO:tensorflow:Summary name prune_low_magnitude_conv2d_7/mask:0/sparsity is illegal; using prune_low_magnitude_conv2d_7/mask_0/sparsity instead.\n",
      "INFO:tensorflow:Summary name prune_low_magnitude_conv2d_8/mask:0/sparsity is illegal; using prune_low_magnitude_conv2d_8/mask_0/sparsity instead.\n",
      "INFO:tensorflow:Summary name prune_low_magnitude_dense_4/mask:0/sparsity is illegal; using prune_low_magnitude_dense_4/mask_0/sparsity instead.\n",
      "INFO:tensorflow:Summary name prune_low_magnitude_dense_5/mask:0/sparsity is illegal; using prune_low_magnitude_dense_5/mask_0/sparsity instead.\n",
      "INFO:tensorflow:Summary name prune_low_magnitude_conv2d_6/threshold:0/threshold is illegal; using prune_low_magnitude_conv2d_6/threshold_0/threshold instead.\n",
      "INFO:tensorflow:Summary name prune_low_magnitude_conv2d_7/threshold:0/threshold is illegal; using prune_low_magnitude_conv2d_7/threshold_0/threshold instead.\n",
      "INFO:tensorflow:Summary name prune_low_magnitude_conv2d_8/threshold:0/threshold is illegal; using prune_low_magnitude_conv2d_8/threshold_0/threshold instead.\n",
      "INFO:tensorflow:Summary name prune_low_magnitude_dense_4/threshold:0/threshold is illegal; using prune_low_magnitude_dense_4/threshold_0/threshold instead.\n",
      "INFO:tensorflow:Summary name prune_low_magnitude_dense_5/threshold:0/threshold is illegal; using prune_low_magnitude_dense_5/threshold_0/threshold instead.\n",
      "50000/50000 [==============================] - 20s 394us/sample - loss: 1.8163 - acc: 0.6469 - val_loss: 1.8509 - val_acc: 0.6060\n",
      "Epoch 10/15\n",
      "49920/50000 [============================>.] - ETA: 0s - loss: 1.8034 - acc: 0.6596INFO:tensorflow:Summary name prune_low_magnitude_conv2d_6/mask:0/sparsity is illegal; using prune_low_magnitude_conv2d_6/mask_0/sparsity instead.\n",
      "INFO:tensorflow:Summary name prune_low_magnitude_conv2d_7/mask:0/sparsity is illegal; using prune_low_magnitude_conv2d_7/mask_0/sparsity instead.\n",
      "INFO:tensorflow:Summary name prune_low_magnitude_conv2d_8/mask:0/sparsity is illegal; using prune_low_magnitude_conv2d_8/mask_0/sparsity instead.\n",
      "INFO:tensorflow:Summary name prune_low_magnitude_dense_4/mask:0/sparsity is illegal; using prune_low_magnitude_dense_4/mask_0/sparsity instead.\n",
      "INFO:tensorflow:Summary name prune_low_magnitude_dense_5/mask:0/sparsity is illegal; using prune_low_magnitude_dense_5/mask_0/sparsity instead.\n"
     ]
    },
    {
     "name": "stdout",
     "output_type": "stream",
     "text": [
      "INFO:tensorflow:Summary name prune_low_magnitude_conv2d_6/threshold:0/threshold is illegal; using prune_low_magnitude_conv2d_6/threshold_0/threshold instead.\n",
      "INFO:tensorflow:Summary name prune_low_magnitude_conv2d_7/threshold:0/threshold is illegal; using prune_low_magnitude_conv2d_7/threshold_0/threshold instead.\n",
      "INFO:tensorflow:Summary name prune_low_magnitude_conv2d_8/threshold:0/threshold is illegal; using prune_low_magnitude_conv2d_8/threshold_0/threshold instead.\n",
      "INFO:tensorflow:Summary name prune_low_magnitude_dense_4/threshold:0/threshold is illegal; using prune_low_magnitude_dense_4/threshold_0/threshold instead.\n",
      "INFO:tensorflow:Summary name prune_low_magnitude_dense_5/threshold:0/threshold is illegal; using prune_low_magnitude_dense_5/threshold_0/threshold instead.\n",
      "50000/50000 [==============================] - 19s 385us/sample - loss: 1.8034 - acc: 0.6596 - val_loss: 1.8394 - val_acc: 0.6182\n",
      "Epoch 11/15\n",
      "49920/50000 [============================>.] - ETA: 0s - loss: 1.7899 - acc: 0.6736INFO:tensorflow:Summary name prune_low_magnitude_conv2d_6/mask:0/sparsity is illegal; using prune_low_magnitude_conv2d_6/mask_0/sparsity instead.\n",
      "INFO:tensorflow:Summary name prune_low_magnitude_conv2d_7/mask:0/sparsity is illegal; using prune_low_magnitude_conv2d_7/mask_0/sparsity instead.\n",
      "INFO:tensorflow:Summary name prune_low_magnitude_conv2d_8/mask:0/sparsity is illegal; using prune_low_magnitude_conv2d_8/mask_0/sparsity instead.\n",
      "INFO:tensorflow:Summary name prune_low_magnitude_dense_4/mask:0/sparsity is illegal; using prune_low_magnitude_dense_4/mask_0/sparsity instead.\n",
      "INFO:tensorflow:Summary name prune_low_magnitude_dense_5/mask:0/sparsity is illegal; using prune_low_magnitude_dense_5/mask_0/sparsity instead.\n",
      "INFO:tensorflow:Summary name prune_low_magnitude_conv2d_6/threshold:0/threshold is illegal; using prune_low_magnitude_conv2d_6/threshold_0/threshold instead.\n",
      "INFO:tensorflow:Summary name prune_low_magnitude_conv2d_7/threshold:0/threshold is illegal; using prune_low_magnitude_conv2d_7/threshold_0/threshold instead.\n",
      "INFO:tensorflow:Summary name prune_low_magnitude_conv2d_8/threshold:0/threshold is illegal; using prune_low_magnitude_conv2d_8/threshold_0/threshold instead.\n",
      "INFO:tensorflow:Summary name prune_low_magnitude_dense_4/threshold:0/threshold is illegal; using prune_low_magnitude_dense_4/threshold_0/threshold instead.\n",
      "INFO:tensorflow:Summary name prune_low_magnitude_dense_5/threshold:0/threshold is illegal; using prune_low_magnitude_dense_5/threshold_0/threshold instead.\n",
      "50000/50000 [==============================] - 20s 391us/sample - loss: 1.7899 - acc: 0.6736 - val_loss: 1.8332 - val_acc: 0.6262\n",
      "Epoch 12/15\n",
      "49792/50000 [============================>.] - ETA: 0s - loss: 1.7796 - acc: 0.6844INFO:tensorflow:Summary name prune_low_magnitude_conv2d_6/mask:0/sparsity is illegal; using prune_low_magnitude_conv2d_6/mask_0/sparsity instead.\n",
      "INFO:tensorflow:Summary name prune_low_magnitude_conv2d_7/mask:0/sparsity is illegal; using prune_low_magnitude_conv2d_7/mask_0/sparsity instead.\n",
      "INFO:tensorflow:Summary name prune_low_magnitude_conv2d_8/mask:0/sparsity is illegal; using prune_low_magnitude_conv2d_8/mask_0/sparsity instead.\n",
      "INFO:tensorflow:Summary name prune_low_magnitude_dense_4/mask:0/sparsity is illegal; using prune_low_magnitude_dense_4/mask_0/sparsity instead.\n",
      "INFO:tensorflow:Summary name prune_low_magnitude_dense_5/mask:0/sparsity is illegal; using prune_low_magnitude_dense_5/mask_0/sparsity instead.\n",
      "INFO:tensorflow:Summary name prune_low_magnitude_conv2d_6/threshold:0/threshold is illegal; using prune_low_magnitude_conv2d_6/threshold_0/threshold instead.\n",
      "INFO:tensorflow:Summary name prune_low_magnitude_conv2d_7/threshold:0/threshold is illegal; using prune_low_magnitude_conv2d_7/threshold_0/threshold instead.\n",
      "INFO:tensorflow:Summary name prune_low_magnitude_conv2d_8/threshold:0/threshold is illegal; using prune_low_magnitude_conv2d_8/threshold_0/threshold instead.\n",
      "INFO:tensorflow:Summary name prune_low_magnitude_dense_4/threshold:0/threshold is illegal; using prune_low_magnitude_dense_4/threshold_0/threshold instead.\n",
      "INFO:tensorflow:Summary name prune_low_magnitude_dense_5/threshold:0/threshold is illegal; using prune_low_magnitude_dense_5/threshold_0/threshold instead.\n",
      "50000/50000 [==============================] - 18s 352us/sample - loss: 1.7799 - acc: 0.6841 - val_loss: 1.8246 - val_acc: 0.6351\n",
      "Epoch 13/15\n",
      "49920/50000 [============================>.] - ETA: 0s - loss: 1.7701 - acc: 0.6940INFO:tensorflow:Summary name prune_low_magnitude_conv2d_6/mask:0/sparsity is illegal; using prune_low_magnitude_conv2d_6/mask_0/sparsity instead.\n",
      "INFO:tensorflow:Summary name prune_low_magnitude_conv2d_7/mask:0/sparsity is illegal; using prune_low_magnitude_conv2d_7/mask_0/sparsity instead.\n",
      "INFO:tensorflow:Summary name prune_low_magnitude_conv2d_8/mask:0/sparsity is illegal; using prune_low_magnitude_conv2d_8/mask_0/sparsity instead.\n",
      "INFO:tensorflow:Summary name prune_low_magnitude_dense_4/mask:0/sparsity is illegal; using prune_low_magnitude_dense_4/mask_0/sparsity instead.\n",
      "INFO:tensorflow:Summary name prune_low_magnitude_dense_5/mask:0/sparsity is illegal; using prune_low_magnitude_dense_5/mask_0/sparsity instead.\n",
      "INFO:tensorflow:Summary name prune_low_magnitude_conv2d_6/threshold:0/threshold is illegal; using prune_low_magnitude_conv2d_6/threshold_0/threshold instead.\n",
      "INFO:tensorflow:Summary name prune_low_magnitude_conv2d_7/threshold:0/threshold is illegal; using prune_low_magnitude_conv2d_7/threshold_0/threshold instead.\n",
      "INFO:tensorflow:Summary name prune_low_magnitude_conv2d_8/threshold:0/threshold is illegal; using prune_low_magnitude_conv2d_8/threshold_0/threshold instead.\n",
      "INFO:tensorflow:Summary name prune_low_magnitude_dense_4/threshold:0/threshold is illegal; using prune_low_magnitude_dense_4/threshold_0/threshold instead.\n",
      "INFO:tensorflow:Summary name prune_low_magnitude_dense_5/threshold:0/threshold is illegal; using prune_low_magnitude_dense_5/threshold_0/threshold instead.\n",
      "50000/50000 [==============================] - 20s 396us/sample - loss: 1.7702 - acc: 0.6939 - val_loss: 1.8220 - val_acc: 0.6382\n",
      "Epoch 14/15\n",
      "49920/50000 [============================>.] - ETA: 0s - loss: 1.7627 - acc: 0.7017- ETA: 0s - loss: 1.7626 - acc: 0.7INFO:tensorflow:Summary name prune_low_magnitude_conv2d_6/mask:0/sparsity is illegal; using prune_low_magnitude_conv2d_6/mask_0/sparsity instead.\n",
      "INFO:tensorflow:Summary name prune_low_magnitude_conv2d_7/mask:0/sparsity is illegal; using prune_low_magnitude_conv2d_7/mask_0/sparsity instead.\n",
      "INFO:tensorflow:Summary name prune_low_magnitude_conv2d_8/mask:0/sparsity is illegal; using prune_low_magnitude_conv2d_8/mask_0/sparsity instead.\n",
      "INFO:tensorflow:Summary name prune_low_magnitude_dense_4/mask:0/sparsity is illegal; using prune_low_magnitude_dense_4/mask_0/sparsity instead.\n",
      "INFO:tensorflow:Summary name prune_low_magnitude_dense_5/mask:0/sparsity is illegal; using prune_low_magnitude_dense_5/mask_0/sparsity instead.\n",
      "INFO:tensorflow:Summary name prune_low_magnitude_conv2d_6/threshold:0/threshold is illegal; using prune_low_magnitude_conv2d_6/threshold_0/threshold instead.\n",
      "INFO:tensorflow:Summary name prune_low_magnitude_conv2d_7/threshold:0/threshold is illegal; using prune_low_magnitude_conv2d_7/threshold_0/threshold instead.\n",
      "INFO:tensorflow:Summary name prune_low_magnitude_conv2d_8/threshold:0/threshold is illegal; using prune_low_magnitude_conv2d_8/threshold_0/threshold instead.\n",
      "INFO:tensorflow:Summary name prune_low_magnitude_dense_4/threshold:0/threshold is illegal; using prune_low_magnitude_dense_4/threshold_0/threshold instead.\n",
      "INFO:tensorflow:Summary name prune_low_magnitude_dense_5/threshold:0/threshold is illegal; using prune_low_magnitude_dense_5/threshold_0/threshold instead.\n",
      "50000/50000 [==============================] - 22s 435us/sample - loss: 1.7627 - acc: 0.7018 - val_loss: 1.8261 - val_acc: 0.6337\n",
      "Epoch 15/15\n",
      "49920/50000 [============================>.] - ETA: 0s - loss: 1.7570 - acc: 0.7071INFO:tensorflow:Summary name prune_low_magnitude_conv2d_6/mask:0/sparsity is illegal; using prune_low_magnitude_conv2d_6/mask_0/sparsity instead.\n",
      "INFO:tensorflow:Summary name prune_low_magnitude_conv2d_7/mask:0/sparsity is illegal; using prune_low_magnitude_conv2d_7/mask_0/sparsity instead.\n"
     ]
    },
    {
     "name": "stdout",
     "output_type": "stream",
     "text": [
      "INFO:tensorflow:Summary name prune_low_magnitude_conv2d_8/mask:0/sparsity is illegal; using prune_low_magnitude_conv2d_8/mask_0/sparsity instead.\n",
      "INFO:tensorflow:Summary name prune_low_magnitude_dense_4/mask:0/sparsity is illegal; using prune_low_magnitude_dense_4/mask_0/sparsity instead.\n",
      "INFO:tensorflow:Summary name prune_low_magnitude_dense_5/mask:0/sparsity is illegal; using prune_low_magnitude_dense_5/mask_0/sparsity instead.\n",
      "INFO:tensorflow:Summary name prune_low_magnitude_conv2d_6/threshold:0/threshold is illegal; using prune_low_magnitude_conv2d_6/threshold_0/threshold instead.\n",
      "INFO:tensorflow:Summary name prune_low_magnitude_conv2d_7/threshold:0/threshold is illegal; using prune_low_magnitude_conv2d_7/threshold_0/threshold instead.\n",
      "INFO:tensorflow:Summary name prune_low_magnitude_conv2d_8/threshold:0/threshold is illegal; using prune_low_magnitude_conv2d_8/threshold_0/threshold instead.\n",
      "INFO:tensorflow:Summary name prune_low_magnitude_dense_4/threshold:0/threshold is illegal; using prune_low_magnitude_dense_4/threshold_0/threshold instead.\n",
      "INFO:tensorflow:Summary name prune_low_magnitude_dense_5/threshold:0/threshold is illegal; using prune_low_magnitude_dense_5/threshold_0/threshold instead.\n",
      "50000/50000 [==============================] - 37s 731us/sample - loss: 1.7570 - acc: 0.7071 - val_loss: 1.8193 - val_acc: 0.6409\n",
      "Test loss: 1.8192602569580079\n",
      "Test accuracy: 0.6409\n"
     ]
    }
   ],
   "source": [
    "pruned_model.compile(\n",
    "    loss=tf.keras.losses.SparseCategoricalCrossentropy(from_logits=True),\n",
    "    optimizer='adam',\n",
    "    metrics=['accuracy'])\n",
    "\n",
    "# Add a pruning step callback to peg the pruning step to the optimizer's\n",
    "# step. Also add a callback to add pruning summaries to tensorboard\n",
    "callbacks = [\n",
    "    sparsity.UpdatePruningStep(),\n",
    "    sparsity.PruningSummaries(log_dir=logdir, profile_batch=0)\n",
    "]\n",
    "\n",
    "pruned_model.fit(x_train, y_train,\n",
    "          batch_size=batch_size,\n",
    "          epochs=epochs,\n",
    "          verbose=1,\n",
    "          callbacks=callbacks,\n",
    "          validation_data=(x_test, y_test))\n",
    "\n",
    "score = pruned_model.evaluate(x_test, y_test, verbose=0)\n",
    "print('Test loss:', score[0])\n",
    "print('Test accuracy:', score[1])"
   ]
  },
  {
   "cell_type": "code",
   "execution_count": 20,
   "metadata": {},
   "outputs": [
    {
     "name": "stdout",
     "output_type": "stream",
     "text": [
      "Model: \"sequential_2\"\n",
      "_________________________________________________________________\n",
      "Layer (type)                 Output Shape              Param #   \n",
      "=================================================================\n",
      "conv2d_6 (Conv2D)            (None, 32, 32, 32)        896       \n",
      "_________________________________________________________________\n",
      "max_pooling2d_4 (MaxPooling2 (None, 16, 16, 32)        0         \n",
      "_________________________________________________________________\n",
      "conv2d_7 (Conv2D)            (None, 16, 16, 64)        18496     \n",
      "_________________________________________________________________\n",
      "max_pooling2d_5 (MaxPooling2 (None, 8, 8, 64)          0         \n",
      "_________________________________________________________________\n",
      "conv2d_8 (Conv2D)            (None, 8, 8, 64)          36928     \n",
      "_________________________________________________________________\n",
      "flatten_2 (Flatten)          (None, 4096)              0         \n",
      "_________________________________________________________________\n",
      "dense_4 (Dense)              (None, 64)                262208    \n",
      "_________________________________________________________________\n",
      "dense_5 (Dense)              (None, 10)                650       \n",
      "=================================================================\n",
      "Total params: 319,178\n",
      "Trainable params: 319,178\n",
      "Non-trainable params: 0\n",
      "_________________________________________________________________\n"
     ]
    }
   ],
   "source": [
    "final_model = sparsity.strip_pruning(pruned_model)\n",
    "final_model.summary()"
   ]
  },
  {
   "cell_type": "code",
   "execution_count": 21,
   "metadata": {},
   "outputs": [
    {
     "name": "stdout",
     "output_type": "stream",
     "text": [
      "Saving pruned model to:  /tmp/tmp4xp8uoo9.h5\n"
     ]
    }
   ],
   "source": [
    "_, pruned_keras_file = tempfile.mkstemp('.h5')\n",
    "print('Saving pruned model to: ', pruned_keras_file)\n",
    "\n",
    "# No need to save the optimizer with the graph for serving.\n",
    "tf.keras.models.save_model(final_model, pruned_keras_file, include_optimizer=False)"
   ]
  },
  {
   "cell_type": "markdown",
   "metadata": {},
   "source": [
    "## Compare the size of the unpruned vs. pruned model after compression"
   ]
  },
  {
   "cell_type": "code",
   "execution_count": 22,
   "metadata": {},
   "outputs": [
    {
     "name": "stdout",
     "output_type": "stream",
     "text": [
      "Size of the unpruned model before compression: 0.49 Mb\n",
      "Size of the unpruned model after compression: 0.44 Mb\n",
      "Size of the pruned model before compression: 1.24 Mb\n",
      "Size of the pruned model after compression: 0.71 Mb\n"
     ]
    }
   ],
   "source": [
    "_, zip1 = tempfile.mkstemp('.zip') \n",
    "with zipfile.ZipFile(zip1, 'w', compression=zipfile.ZIP_DEFLATED) as f:\n",
    "  f.write(keras_file)\n",
    "print(\"Size of the unpruned model before compression: %.2f Mb\" % \n",
    "      (os.path.getsize(keras_file) / float(2**20)))\n",
    "print(\"Size of the unpruned model after compression: %.2f Mb\" % \n",
    "      (os.path.getsize(zip1) / float(2**20)))\n",
    "\n",
    "_, zip2 = tempfile.mkstemp('.zip') \n",
    "with zipfile.ZipFile(zip2, 'w', compression=zipfile.ZIP_DEFLATED) as f:\n",
    "  f.write(pruned_keras_file)\n",
    "print(\"Size of the pruned model before compression: %.2f Mb\" % \n",
    "      (os.path.getsize(pruned_keras_file) / float(2**20)))\n",
    "print(\"Size of the pruned model after compression: %.2f Mb\" % \n",
    "      (os.path.getsize(zip2) / float(2**20)))"
   ]
  },
  {
   "cell_type": "markdown",
   "metadata": {},
   "source": [
    "## Convert to TensorFlow Lite"
   ]
  },
  {
   "cell_type": "code",
   "execution_count": null,
   "metadata": {},
   "outputs": [],
   "source": []
  },
  {
   "cell_type": "code",
   "execution_count": null,
   "metadata": {},
   "outputs": [],
   "source": []
  }
 ],
 "metadata": {
  "kernelspec": {
   "display_name": "Python 3",
   "language": "python",
   "name": "python3"
  },
  "language_info": {
   "codemirror_mode": {
    "name": "ipython",
    "version": 3
   },
   "file_extension": ".py",
   "mimetype": "text/x-python",
   "name": "python",
   "nbconvert_exporter": "python",
   "pygments_lexer": "ipython3",
   "version": "3.7.4"
  }
 },
 "nbformat": 4,
 "nbformat_minor": 4
}
